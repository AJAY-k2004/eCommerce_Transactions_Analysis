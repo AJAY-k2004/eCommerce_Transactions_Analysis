{
 "cells": [
  {
   "cell_type": "markdown",
   "id": "35440dcb-2135-4c98-983d-2ee1fa30fcc4",
   "metadata": {},
   "source": [
    "### Importing the libraries"
   ]
  },
  {
   "cell_type": "code",
   "execution_count": 51,
   "id": "bea2f27a-a2eb-48b5-9ad9-77849ebe86cd",
   "metadata": {},
   "outputs": [],
   "source": [
    "import pandas as pd\n",
    "from sklearn.preprocessing import OneHotEncoder, MinMaxScaler\n",
    "from sklearn.metrics.pairwise import cosine_similarity\n"
   ]
  },
  {
   "cell_type": "markdown",
   "id": "6fd975de-f508-4e11-ab25-d57bf4cafaa4",
   "metadata": {},
   "source": [
    "### Load the datasets\n"
   ]
  },
  {
   "cell_type": "code",
   "execution_count": 54,
   "id": "3c5cfe7d-c2b6-4ef4-b275-eaee258a0a1d",
   "metadata": {},
   "outputs": [],
   "source": [
    "customers = pd.read_csv(\"Customers.csv\")\n",
    "products = pd.read_csv(\"Products.csv\")\n",
    "transactions = pd.read_csv(\"Transactions.csv\")\n"
   ]
  },
  {
   "cell_type": "markdown",
   "id": "c95b2e35-c6cf-4818-91e7-d649d444848f",
   "metadata": {},
   "source": [
    "### Feature Engineering\n",
    "\n"
   ]
  },
  {
   "cell_type": "markdown",
   "id": "e0a3c595-9cdf-4eb2-958d-4a3368c91afd",
   "metadata": {},
   "source": [
    "### Aggregate transaction-level data into customer-level data\n"
   ]
  },
  {
   "cell_type": "code",
   "execution_count": 109,
   "id": "2e454c17-b0ba-49d2-a5cf-166bf67c53db",
   "metadata": {},
   "outputs": [],
   "source": [
    "customer_features = transactions.groupby(\"CustomerID\").agg(\n",
    "    {\n",
    "        \"TransactionID\": \"count\",\n",
    "        \"TotalValue\": \"sum\",  \n",
    "        \"ProductID\": lambda x: x.mode()[0] if not x.mode().empty else None,  \n",
    "    }\n",
    ").rename(columns={\n",
    "    \"TransactionID\": \"PurchaseFrequency\",\n",
    "    \"TotalValue\": \"TotalSpend\",\n",
    "    \"ProductID\": \"MostPurchasedProduct\"\n",
    "}).reset_index()"
   ]
  },
  {
   "cell_type": "markdown",
   "id": "a5fd7bd4-10f6-46ae-919f-5c43aebf98c4",
   "metadata": {},
   "source": [
    "### Merge with customer demographic data\n"
   ]
  },
  {
   "cell_type": "code",
   "execution_count": 61,
   "id": "a9413e81-68be-4cf9-9373-e7752338267b",
   "metadata": {},
   "outputs": [],
   "source": [
    "customer_features = pd.merge(customer_features, customers, on=\"CustomerID\", how=\"left\")\n",
    "\n",
    "\n"
   ]
  },
  {
   "cell_type": "markdown",
   "id": "e1202e06-4614-412c-a999-3ce13e6841e8",
   "metadata": {},
   "source": [
    "### One-hot encode the 'Region' column\n",
    "\n"
   ]
  },
  {
   "cell_type": "code",
   "execution_count": 64,
   "id": "cde800dc-6c02-4bcb-b53c-c8ca803df869",
   "metadata": {},
   "outputs": [],
   "source": [
    "encoder = OneHotEncoder()\n",
    "region_encoded = encoder.fit_transform(customer_features[[\"Region\"]]).toarray()\n",
    "region_encoded_df = pd.DataFrame(region_encoded, columns=encoder.get_feature_names_out([\"Region\"]))\n"
   ]
  },
  {
   "cell_type": "markdown",
   "id": "c6de370a-38c1-4a7a-ab9d-af09e729ba23",
   "metadata": {},
   "source": [
    "### Concatenate with original features"
   ]
  },
  {
   "cell_type": "code",
   "execution_count": 67,
   "id": "e9f10626-228a-4a0c-8454-009daf64b361",
   "metadata": {},
   "outputs": [],
   "source": [
    "customer_features = pd.concat([customer_features, region_encoded_df], axis=1)\n",
    "customer_features.drop(columns=[\"Region\", \"CustomerName\", \"SignupDate\"], inplace=True)"
   ]
  },
  {
   "cell_type": "markdown",
   "id": "31e8f5cc-9e75-4898-a971-4bb600c0068b",
   "metadata": {},
   "source": [
    "### Normalize numerical columns"
   ]
  },
  {
   "cell_type": "code",
   "execution_count": 70,
   "id": "8bed1c9b-8791-48cb-8d8e-24f60f27bfe5",
   "metadata": {},
   "outputs": [],
   "source": [
    "scaler = MinMaxScaler()\n",
    "normalized_features = scaler.fit_transform(customer_features[[\"PurchaseFrequency\", \"TotalSpend\"]])\n",
    "normalized_features_df = pd.DataFrame(normalized_features, columns=[\"NormPurchaseFrequency\", \"NormTotalSpend\"])\n"
   ]
  },
  {
   "cell_type": "markdown",
   "id": "60f718c0-4f01-42db-89fe-b9569b671500",
   "metadata": {},
   "source": [
    "### Add normalized columns to the feature set"
   ]
  },
  {
   "cell_type": "code",
   "execution_count": 73,
   "id": "ca1e837c-0140-4cf6-8298-a299353a4922",
   "metadata": {},
   "outputs": [],
   "source": [
    "customer_features = pd.concat([customer_features.reset_index(drop=True), normalized_features_df], axis=1)\n",
    "\n"
   ]
  },
  {
   "cell_type": "markdown",
   "id": "e77494ba-6920-4b4c-849f-be7d569b585d",
   "metadata": {},
   "source": [
    "### Computing Similarities\n"
   ]
  },
  {
   "cell_type": "markdown",
   "id": "0e4bf080-617e-4b04-9089-f6a7cf1bd23b",
   "metadata": {},
   "source": [
    "### Selecting only numerical features for similarity computation\n"
   ]
  },
  {
   "cell_type": "code",
   "execution_count": 76,
   "id": "64664e55-fa1f-4401-b1ff-ba7d7e8d91a7",
   "metadata": {},
   "outputs": [],
   "source": [
    "similarity_data = customer_features.drop(columns=[\"CustomerID\", \"PurchaseFrequency\", \"TotalSpend\", \"MostPurchasedProduct\"])"
   ]
  },
  {
   "cell_type": "markdown",
   "id": "c6efb61d-e0e9-4dc2-aafd-df32d905018f",
   "metadata": {},
   "source": [
    "### Compute cosine similarity\n"
   ]
  },
  {
   "cell_type": "code",
   "execution_count": 80,
   "id": "00e5d7f5-4084-464e-a447-bd0e20fdd19b",
   "metadata": {},
   "outputs": [],
   "source": [
    "similarity_matrix = cosine_similarity(similarity_data)"
   ]
  },
  {
   "cell_type": "markdown",
   "id": "1f0f8807-cd55-4ce2-812c-0a419a4c99cf",
   "metadata": {},
   "source": [
    "### Convert the similarity matrix to a DataFrame for easier interpretation\n"
   ]
  },
  {
   "cell_type": "code",
   "execution_count": 83,
   "id": "f01fd9c6-def9-429e-a8df-2aab38cec282",
   "metadata": {},
   "outputs": [],
   "source": [
    "similarity_df = pd.DataFrame(similarity_matrix, index=customer_features[\"CustomerID\"], columns=customer_features[\"CustomerID\"])\n"
   ]
  },
  {
   "cell_type": "markdown",
   "id": "22a4640c-5426-45d1-8a31-1f6f9d7daa5b",
   "metadata": {},
   "source": [
    "\n",
    "### Step 4: Generate Lookalike Recommendations\n"
   ]
  },
  {
   "cell_type": "code",
   "execution_count": 86,
   "id": "4b4cc1ab-cbd6-48c5-aa9c-087639662de4",
   "metadata": {},
   "outputs": [],
   "source": [
    "lookalike_map = {}"
   ]
  },
  {
   "cell_type": "markdown",
   "id": "5a7bc24d-ce54-42eb-bc15-06b7625ff172",
   "metadata": {},
   "source": [
    "### Find top 3 most similar customers for the first 20 customers\n"
   ]
  },
  {
   "cell_type": "code",
   "execution_count": 111,
   "id": "98ed2abd-5b5c-4c96-a875-decf7d806b09",
   "metadata": {},
   "outputs": [],
   "source": [
    "for customer_id in customer_features[\"CustomerID\"][:20]:\n",
    "    similar_customers = similarity_df[customer_id].sort_values(ascending=False).iloc[1:4]  \n",
    "    lookalike_map[customer_id] = [(similar_id, score) for similar_id, score in similar_customers.items()]\n",
    "\n"
   ]
  },
  {
   "cell_type": "markdown",
   "id": "ab8981d6-931b-4766-a780-49777d38da16",
   "metadata": {},
   "source": [
    "### Preparing Lookalike.csv\n"
   ]
  },
  {
   "cell_type": "code",
   "execution_count": 92,
   "id": "2d128d7a-4b69-4c0f-95ca-cdc3d02e00fc",
   "metadata": {},
   "outputs": [],
   "source": [
    "lookalike_rows = []\n",
    "for customer_id, lookalikes in lookalike_map.items():\n",
    "    for similar_id, score in lookalikes:\n",
    "        lookalike_rows.append({\n",
    "            \"TargetCustomerID\": customer_id,\n",
    "            \"LookalikeCustomerID\": similar_id,\n",
    "            \"SimilarityScore\": score\n",
    "        })\n",
    "\n",
    "lookalike_df = pd.DataFrame(lookalike_rows)\n",
    "lookalike_df.to_csv(\"Lookalike.csv\", index=False)\n",
    "\n"
   ]
  },
  {
   "cell_type": "code",
   "execution_count": null,
   "id": "422abdfb-3f88-4d68-8f23-5b4ebb03d0fa",
   "metadata": {},
   "outputs": [],
   "source": []
  },
  {
   "cell_type": "code",
   "execution_count": null,
   "id": "12cdd7c8-0fba-48a2-b91a-417eba9bcc24",
   "metadata": {},
   "outputs": [],
   "source": []
  },
  {
   "cell_type": "code",
   "execution_count": null,
   "id": "c86dec84-d4d1-4640-bc7b-b157e1cab96b",
   "metadata": {},
   "outputs": [],
   "source": []
  },
  {
   "cell_type": "code",
   "execution_count": null,
   "id": "9e691d95-c058-495f-927e-2a8edc4f4c63",
   "metadata": {},
   "outputs": [],
   "source": []
  },
  {
   "cell_type": "code",
   "execution_count": null,
   "id": "9a333b9e-dc8f-4beb-99dd-0380525bc32d",
   "metadata": {},
   "outputs": [],
   "source": []
  },
  {
   "cell_type": "code",
   "execution_count": null,
   "id": "d6116ee2-0373-4766-88bc-5eeb2d4e409d",
   "metadata": {},
   "outputs": [],
   "source": []
  },
  {
   "cell_type": "code",
   "execution_count": null,
   "id": "e45476c7-372d-4441-8a5b-81fd6799d2f0",
   "metadata": {},
   "outputs": [],
   "source": []
  },
  {
   "cell_type": "code",
   "execution_count": null,
   "id": "59ac53b7-c446-42d0-bf28-cdcb5736553e",
   "metadata": {},
   "outputs": [],
   "source": []
  },
  {
   "cell_type": "code",
   "execution_count": null,
   "id": "4f17cf0b-a98f-4a0d-8c17-009524a6cefa",
   "metadata": {},
   "outputs": [],
   "source": []
  },
  {
   "cell_type": "code",
   "execution_count": null,
   "id": "a468ba6b-081c-4c27-a64a-fc32101679e4",
   "metadata": {},
   "outputs": [],
   "source": []
  },
  {
   "cell_type": "code",
   "execution_count": null,
   "id": "de4c26a1-1314-4871-82bf-681585d4309d",
   "metadata": {},
   "outputs": [],
   "source": []
  }
 ],
 "metadata": {
  "kernelspec": {
   "display_name": "Python [conda env:base] *",
   "language": "python",
   "name": "conda-base-py"
  },
  "language_info": {
   "codemirror_mode": {
    "name": "ipython",
    "version": 3
   },
   "file_extension": ".py",
   "mimetype": "text/x-python",
   "name": "python",
   "nbconvert_exporter": "python",
   "pygments_lexer": "ipython3",
   "version": "3.12.7"
  }
 },
 "nbformat": 4,
 "nbformat_minor": 5
}
